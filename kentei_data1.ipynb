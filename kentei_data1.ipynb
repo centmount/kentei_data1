{
  "nbformat": 4,
  "nbformat_minor": 0,
  "metadata": {
    "colab": {
      "provenance": [],
      "authorship_tag": "ABX9TyPKAyxU4Igl1HEnk+qdvQEc"
    },
    "kernelspec": {
      "name": "python3",
      "display_name": "Python 3"
    },
    "language_info": {
      "name": "python"
    }
  },
  "cells": [
    {
      "cell_type": "code",
      "execution_count": null,
      "metadata": {
        "id": "frNzZMV8frKC"
      },
      "outputs": [],
      "source": [
        "!pip install streamlit -q\n",
        "!pip install japanize-matplotlib -q"
      ]
    },
    {
      "cell_type": "code",
      "source": [
        "%%writefile app.py\n",
        "# インポート\n",
        "import pandas as pd\n",
        "import streamlit as st\n",
        "import matplotlib.pyplot as plt\n",
        "import japanize_matplotlib\n",
        "\n",
        "st.title('検定コーナーの正解率を取得')\n",
        "st.write('ファイルをアップロードして、解答の割合を表示します')\n",
        "\n",
        "files = st.file_uploader(\"データファイルをアップロード\", type='csv', accept_multiple_files=True)\n",
        "st.write('複数のファイルをアップロードできます')\n",
        "\n",
        "button= st.button('処理を実行')\n",
        "\n",
        "if button:\n",
        "    for file in files:\n",
        "        df = pd.read_csv(file, encoding='shift-jis')\n",
        "        category = df.loc[0, '名称']\n",
        "        date = df.loc[0, '登録日時'][2:12]\n",
        "        df_color = round(df['解答色'].value_counts() / df['解答色'].count(), 4) * 100\n",
        "        df_color = pd.DataFrame(df_color)\n",
        "        df_color.index = ['青', '赤', '緑']\n",
        "        df_color.columns = [category + '  ' + date]\n",
        "        st.dataframe(df_color.T)\n",
        "        fig = plt.figure(figsize=(8,8))\n",
        "        labels = [\"青\", \"赤\", \"緑\"]\n",
        "        colors = [\"blue\", \"red\", \"green\"]\n",
        "        textprops = textprops = {'fontsize':16}\n",
        "        plt.pie(df_color, labels=labels, colors=colors, counterclock=False, startangle=90, autopct=\"%.2f%%\", textprops=textprops)\n",
        "        plt.title(category + '  ' + date, fontsize=20)\n",
        "        plt.show()\n",
        "        st.pyplot(fig)\n",
        "        st.write('処理を終了しました')\n"
      ],
      "metadata": {
        "colab": {
          "base_uri": "https://localhost:8080/"
        },
        "id": "7fDIAvVM_IGD",
        "outputId": "3503c4ca-061e-49a7-fedb-ea1811aa9b92"
      },
      "execution_count": null,
      "outputs": [
        {
          "output_type": "stream",
          "name": "stdout",
          "text": [
            "Overwriting app.py\n"
          ]
        }
      ]
    },
    {
      "cell_type": "code",
      "source": [
        "from google.colab import files\n",
        "files.view(\"/content\")\n",
        "files.view(\"app.py\")"
      ],
      "metadata": {
        "colab": {
          "base_uri": "https://localhost:8080/",
          "height": 17
        },
        "id": "Ij3UtzdbQpig",
        "outputId": "a38f95c2-7464-48a2-935d-8aa28a1ab588"
      },
      "execution_count": null,
      "outputs": [
        {
          "output_type": "display_data",
          "data": {
            "text/plain": [
              "<IPython.core.display.Javascript object>"
            ],
            "application/javascript": [
              "\n",
              "      ((filepath) => {{\n",
              "        if (!google.colab.kernel.accessAllowed) {{\n",
              "          return;\n",
              "        }}\n",
              "        google.colab.files.view(filepath);\n",
              "      }})(\"/content\")"
            ]
          },
          "metadata": {}
        },
        {
          "output_type": "display_data",
          "data": {
            "text/plain": [
              "<IPython.core.display.Javascript object>"
            ],
            "application/javascript": [
              "\n",
              "      ((filepath) => {{\n",
              "        if (!google.colab.kernel.accessAllowed) {{\n",
              "          return;\n",
              "        }}\n",
              "        google.colab.files.view(filepath);\n",
              "      }})(\"/content/app.py\")"
            ]
          },
          "metadata": {}
        }
      ]
    },
    {
      "cell_type": "code",
      "source": [
        "!streamlit run app.py & sleep 3 && npx localtunnel --port 8501"
      ],
      "metadata": {
        "colab": {
          "base_uri": "https://localhost:8080/"
        },
        "id": "ovc1JDBvQq0h",
        "outputId": "ebe68b6f-58cd-4610-a8ad-01ee51a1cb85"
      },
      "execution_count": null,
      "outputs": [
        {
          "output_type": "stream",
          "name": "stdout",
          "text": [
            "\n",
            "Collecting usage statistics. To deactivate, set browser.gatherUsageStats to False.\n",
            "\u001b[0m\n",
            "\u001b[0m\n",
            "\u001b[34m\u001b[1m  You can now view your Streamlit app in your browser.\u001b[0m\n",
            "\u001b[0m\n",
            "\u001b[34m  Network URL: \u001b[0m\u001b[1mhttp://172.28.0.12:8501\u001b[0m\n",
            "\u001b[34m  External URL: \u001b[0m\u001b[1mhttp://35.229.150.12:8501\u001b[0m\n",
            "\u001b[0m\n",
            "\u001b[K\u001b[?25hnpx: installed 22 in 1.968s\n",
            "\u001b[34m  Stopping...\u001b[0m\n",
            "^C\n"
          ]
        }
      ]
    }
  ]
}